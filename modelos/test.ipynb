from sklearn.model_selection import train_test_split
from catboost import CatBoostClassifier
import matplotlib.pyplot as plt
import pandas as pd
#from sklearn.metrics import recall_score, f1_score, roc_auc_score
from sklearn.metrics import accuracy_score, precision_score, recall_score, f1_score, roc_auc_score, classification_report

import os

# Crear la ruta si no existe
ruta = os.path.abspath('../data/modelos_entrenamiento/')

# Datos Entrenamiento
X_train = pd.read_csv(os.path.join(ruta, 'X_train.csv'))
y_train = pd.read_csv(os.path.join(ruta, 'y_train.csv'))

# Datos Validación
X_val = pd.read_csv(os.path.join(ruta, 'X_val.csv'))
y_val = pd.read_csv(os.path.join(ruta, 'y_val.csv'))

# Datos Test (Prueba)
X_test = pd.read_csv(os.path.join(ruta, 'X_test.csv'))
y_test = pd.read_csv(os.path.join(ruta, 'y_test.csv'))

# Verificar que las dimensiones de X e y coincidan para cada conjunto de datos
assert X_train.shape[0] == y_train.shape[0], "Error: El número de filas en X_train y y_train no coincide."
assert X_val.shape[0] == y_val.shape[0], "Error: El número de filas en X_val y y_val no coincide."
assert X_test.shape[0] == y_test.shape[0], "Error: El número de filas en X_test y y_test no coincide."

# Verificar que las columnas tengan nombres correctos y consistentes
assert 'satisfaction' in y_train.columns, "Error: El archivo y_train.csv debe tener una columna llamada 'satisfaction'."
assert 'satisfaction' in y_val.columns, "Error: El archivo y_val.csv debe tener una columna llamada 'satisfaction'."
assert 'satisfaction' in y_test.columns, "Error: El archivo y_test.csv debe tener una columna llamada 'satisfaction'."

print("Todos los archivos tienen un número de filas coincidente entre características y etiquetas, y la columna objetivo es 'satisfaction'.")



# Inicializar el modelo CatBoostClassifier
model = CatBoostClassifier(iterations=500, depth=6, learning_rate=0.1, verbose=100)

# Entrenar el modelo
model.fit(X_train, y_train, eval_set=(X_val, y_val), early_stopping_rounds=50)

# Evaluar el modelo en el conjunto de prueba
accuracy = model.score(X_test, y_test)

# Realizar predicciones en los conjuntos de prueba
catboost_train_preds = model.predict(X_train)
catboost_val_preds = model.predict(X_val)
catboost_test_preds = model.predict(X_test)

# Calcular las probabilidades predichas
catboost_train_proba = model.predict_proba(X_train)[:, 1]
catboost_val_proba = model.predict_proba(X_val)[:, 1]
catboost_test_proba = model.predict_proba(X_test)[:, 1]

# Calcular métricas
test_accuracy = accuracy_score(y_test, catboost_test_preds)
test_precision = precision_score(y_test, catboost_test_preds, pos_label=1)
test_recall = recall_score(y_test, catboost_test_preds, pos_label=1)
test_f1 = f1_score(y_test, catboost_test_preds, pos_label=1)
test_auc = roc_auc_score(y_test, catboost_test_proba)

# Imprimir resultados
print(f"Exactitud en el conjunto de prueba: {test_accuracy:.2f}")
print(f"Precisión en el conjunto de prueba: {test_precision:.2f}")
print(f"Recall en el conjunto de prueba: {test_recall:.2f}")
print(f"F1-score en el conjunto de prueba: {test_f1:.2f}")
print(f"AUC en el conjunto de prueba: {test_auc:.2f}")
