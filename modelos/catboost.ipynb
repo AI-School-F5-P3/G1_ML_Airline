{
 "cells": [
  {
   "cell_type": "code",
   "execution_count": 4,
   "metadata": {},
   "outputs": [
    {
     "name": "stdout",
     "output_type": "stream",
     "text": [
      "0:\tlearn: 0.5634787\ttotal: 28.7ms\tremaining: 14.3s\n",
      "100:\tlearn: 0.0957382\ttotal: 2.39s\tremaining: 9.44s\n",
      "200:\tlearn: 0.0820141\ttotal: 4.54s\tremaining: 6.76s\n",
      "300:\tlearn: 0.0754347\ttotal: 6.63s\tremaining: 4.38s\n",
      "400:\tlearn: 0.0707602\ttotal: 8.67s\tremaining: 2.14s\n",
      "499:\tlearn: 0.0668613\ttotal: 10.8s\tremaining: 0us\n",
      "Exactitud del modelo en el conjunto de prueba: 0.96\n",
      "CatBoost - Recall en Entrenamiento: 0.96\n",
      "CatBoost - Recall en Prueba: 0.94\n",
      "CatBoost - F1 Score en Entrenamiento: 0.97\n",
      "CatBoost - F1 Score en Prueba: 0.96\n",
      "CatBoost - AUC en Entrenamiento: 1.00\n",
      "CatBoost - AUC en Prueba: 1.00\n"
     ]
    }
   ],
   "source": [
    "from sklearn.model_selection import train_test_split\n",
    "from catboost import CatBoostClassifier\n",
    "import matplotlib.pyplot as plt\n",
    "import pandas as pd\n",
    "from sklearn.metrics import recall_score, f1_score, roc_auc_score\n",
    "\n",
    "df = pd.read_csv('airline_passenger_satisfaction_cleaned.csv')\n",
    "# Seleccionar las características (X) y la variable objetivo (y)\n",
    "X = df.drop(columns=['satisfaction'])  # Eliminar la columna objetivo del conjunto de características\n",
    "y = df['satisfaction']  # Columna objetivo\n",
    "\n",
    "# Dividir los datos en conjunto de entrenamiento (80%) y prueba (20%)\n",
    "X_train, X_test, y_train, y_test = train_test_split(X, y, test_size=0.2, random_state=42)\n",
    "\n",
    "# Inicializar el modelo CatBoostClassifier\n",
    "model = CatBoostClassifier(iterations=500, depth=6, learning_rate=0.1, verbose=100)\n",
    "\n",
    "# Entrenar el modelo\n",
    "model.fit(X_train, y_train)\n",
    "\n",
    "# Evaluar el modelo en el conjunto de prueba\n",
    "accuracy = model.score(X_test, y_test)\n",
    "print(f\"Exactitud del modelo en el conjunto de prueba: {accuracy:.2f}\")\n",
    "\n",
    "\n",
    "catboost_train_preds = model.predict(X_train)\n",
    "catboost_test_preds = model.predict(X_test)\n",
    "catboost_train_proba = model.predict_proba(X_train)[:, 1]\n",
    "catboost_test_proba = model.predict_proba(X_test)[:, 1]\n",
    "\n",
    "catboost_train_recall = recall_score(y_train, catboost_train_preds)\n",
    "catboost_test_recall = recall_score(y_test, catboost_test_preds)\n",
    "catboost_train_f1 = f1_score(y_train, catboost_train_preds)\n",
    "catboost_test_f1 = f1_score(y_test, catboost_test_preds)\n",
    "catboost_train_auc = roc_auc_score(y_train, catboost_train_proba)\n",
    "catboost_test_auc = roc_auc_score(y_test, catboost_test_proba)\n",
    "\n",
    "print(f\"CatBoost - Recall en Entrenamiento: {catboost_train_recall:.2f}\")\n",
    "print(f\"CatBoost - Recall en Prueba: {catboost_test_recall:.2f}\")\n",
    "print(f\"CatBoost - F1 Score en Entrenamiento: {catboost_train_f1:.2f}\")\n",
    "print(f\"CatBoost - F1 Score en Prueba: {catboost_test_f1:.2f}\")\n",
    "print(f\"CatBoost - AUC en Entrenamiento: {catboost_train_auc:.2f}\")\n",
    "print(f\"CatBoost - AUC en Prueba: {catboost_test_auc:.2f}\")"
   ]
  },
  {
   "cell_type": "code",
   "execution_count": null,
   "metadata": {},
   "outputs": [],
   "source": []
  }
 ],
 "metadata": {
  "kernelspec": {
   "display_name": "Python 3",
   "language": "python",
   "name": "python3"
  },
  "language_info": {
   "codemirror_mode": {
    "name": "ipython",
    "version": 3
   },
   "file_extension": ".py",
   "mimetype": "text/x-python",
   "name": "python",
   "nbconvert_exporter": "python",
   "pygments_lexer": "ipython3",
   "version": "3.12.4"
  }
 },
 "nbformat": 4,
 "nbformat_minor": 2
}
